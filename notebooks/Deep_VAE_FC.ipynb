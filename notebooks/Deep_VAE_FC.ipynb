{
 "cells": [
  {
   "cell_type": "code",
   "execution_count": 2,
   "metadata": {},
   "outputs": [
    {
     "name": "stderr",
     "output_type": "stream",
     "text": [
      "Using TensorFlow backend.\n"
     ]
    }
   ],
   "source": [
    "import tensorflow as tf\n",
    "import pandas as pd\n",
    "import numpy as np\n",
    "import seaborn as sb\n",
    "import matplotlib.pyplot as plt\n",
    "from sklearn.svm import SVC\n",
    "import sklearn.metrics as metrics\n",
    "from sklearn.model_selection import train_test_split\n",
    "from tensorflow.keras.utils import to_categorical\n",
    "from tensorflow.keras import Sequential, Input, Model, regularizers\n",
    "from tensorflow.keras.layers import Lambda, Input, Dense\n",
    "from tensorflow.keras.models import Model\n",
    "from keras.datasets import mnist\n",
    "from keras.losses import mse, binary_crossentropy\n",
    "from keras.utils import plot_model\n",
    "from keras.callbacks import EarlyStopping, ModelCheckpoint\n",
    "from keras import backend as K\n",
    "\n",
    "from scipy.stats import norm"
   ]
  },
  {
   "cell_type": "code",
   "execution_count": 3,
   "metadata": {},
   "outputs": [],
   "source": [
    "# z = z_mean + sqrt(var) * epsilon\n",
    "def sampling(args):\n",
    "    z_mean, z_log_var = args\n",
    "    batch = K.shape(z_mean)[0]\n",
    "    dim = K.int_shape(z_mean)[1]\n",
    "    \n",
    "    epsilon = K.random_normal(shape=(batch, dim))\n",
    "    return z_mean + K.exp(0.5 * z_log_var) * epsilon"
   ]
  },
  {
   "cell_type": "code",
   "execution_count": 4,
   "metadata": {},
   "outputs": [],
   "source": [
    "# network parameters\n",
    "original_dim = 5000 * 1\n",
    "input_shape = (original_dim, )\n",
    "intermediate_dim_0 = 1536\n",
    "intermediate_dim_1 = 1024\n",
    "intermediate_dim_2 = 512\n",
    "batch_size = 128\n",
    "latent_dim = 2\n",
    "epochs = 70\n",
    "\n",
    "REGULAR = \"reg\"\n",
    "CHIMERIC = \"chi\"\n",
    "REPEAT = \"rep\"\n",
    "LOW_QUALITY = \"loq\"\n",
    "\n",
    "INPUT_LENGTH = 5000\n",
    "INPUT_THRESHOLD = 1000\n",
    "\n",
    "NUM_CLASSES = 3\n",
    "\n",
    "\n",
    "def create_datasets(tsv_input):\n",
    "    data = pd.read_csv(tsv_input, delimiter=\"\\t\")\n",
    "\n",
    "    # Filter out all low quality reads\n",
    "    data = data.loc[data.CAT != LOW_QUALITY]\n",
    "\n",
    "    # Convert sequence string to float array\n",
    "    data.PTS = data.PTS.apply(string_to_array)\n",
    "\n",
    "    # Convert labels from strings to ints\n",
    "    ys = data.CAT.apply(category_to_int).to_numpy()\n",
    "    xs = np.stack(data.PTS.array)\n",
    "\n",
    "    encoded_ys = to_categorical(ys, num_classes=NUM_CLASSES)\n",
    "\n",
    "    print(\"XS shape: {}\".format(xs.shape))\n",
    "    print(\"One-hot encoded YS shape: {}\".format(encoded_ys.shape))\n",
    "\n",
    "    train_x, test_x, train_y, test_y = train_test_split(xs, encoded_ys, test_size=0.15)\n",
    "\n",
    "    return train_x, train_y, test_x, test_y\n",
    "\n",
    "\n",
    "def string_to_array(data):\n",
    "    data_string = str(data)\n",
    "    split = data_string.split(',')\n",
    "\n",
    "    return np.array([float(i) for i in split])\n",
    "\n",
    "\n",
    "def category_to_int(data):\n",
    "    category = str(data)\n",
    "    if category == REGULAR:\n",
    "        return 0\n",
    "    elif category == REPEAT:\n",
    "        return 1\n",
    "    else:\n",
    "        return 2"
   ]
  },
  {
   "cell_type": "code",
   "execution_count": 5,
   "metadata": {},
   "outputs": [],
   "source": [
    "# build encoder\n",
    "inputs = Input(shape=input_shape, name='encoder_input')\n",
    "x = Dense(intermediate_dim_0, activation='relu')(inputs)\n",
    "x = Dense(intermediate_dim_1, activation='relu')(x)\n",
    "x = Dense(intermediate_dim_2, activation='relu')(x)\n",
    "\n",
    "z_mean = Dense(latent_dim, name='z_mean')(x)\n",
    "z_log_var = Dense(latent_dim, name='z_log_var')(x)"
   ]
  },
  {
   "cell_type": "code",
   "execution_count": 6,
   "metadata": {},
   "outputs": [],
   "source": [
    "# Use reparameterization trick to push the sampling out as input\n",
    "z = Lambda(sampling, name='z')([z_mean, z_log_var])"
   ]
  },
  {
   "cell_type": "code",
   "execution_count": 11,
   "metadata": {},
   "outputs": [
    {
     "name": "stdout",
     "output_type": "stream",
     "text": [
      "__________________________________________________________________________________________________\n",
      "Layer (type)                    Output Shape         Param #     Connected to                     \n",
      "==================================================================================================\n",
      "encoder_input (InputLayer)      (None, 5000)         0                                            \n",
      "__________________________________________________________________________________________________\n",
      "dense (Dense)                   (None, 1536)         7681536     encoder_input[0][0]              \n",
      "__________________________________________________________________________________________________\n",
      "dense_1 (Dense)                 (None, 1024)         1573888     dense[0][0]                      \n",
      "__________________________________________________________________________________________________\n",
      "dense_2 (Dense)                 (None, 512)          524800      dense_1[0][0]                    \n",
      "__________________________________________________________________________________________________\n",
      "z_mean (Dense)                  (None, 2)            1026        dense_2[0][0]                    \n",
      "__________________________________________________________________________________________________\n",
      "z_log_var (Dense)               (None, 2)            1026        dense_2[0][0]                    \n",
      "__________________________________________________________________________________________________\n",
      "z (Lambda)                      (None, 2)            0           z_mean[0][0]                     \n",
      "                                                                 z_log_var[0][0]                  \n",
      "==================================================================================================\n",
      "Total params: 9,782,276\n",
      "Trainable params: 9,782,276\n",
      "Non-trainable params: 0\n",
      "__________________________________________________________________________________________________\n"
     ]
    }
   ],
   "source": [
    "# instantiate encoder\n",
    "encoder = Model(inputs, [z_mean, z_log_var, z], name='encoder')\n",
    "encoder.summary()\n",
    "\n",
    "plot_model(encoder, to_file='vae_mlp_fc_encoder.png', show_shapes=True)"
   ]
  },
  {
   "cell_type": "code",
   "execution_count": 12,
   "metadata": {},
   "outputs": [],
   "source": [
    "# build decoder\n",
    "latent_inputs = Input(shape=(latent_dim,), name='z_sampling')\n",
    "x = Dense(intermediate_dim_2, activation='relu')(latent_inputs)\n",
    "x = Dense(intermediate_dim_1, activation='relu')(x)\n",
    "x = Dense(intermediate_dim_0, activation='relu')(x)\n",
    "\n",
    "outputs = Dense(original_dim, activation='sigmoid')(x)"
   ]
  },
  {
   "cell_type": "code",
   "execution_count": 13,
   "metadata": {},
   "outputs": [
    {
     "name": "stdout",
     "output_type": "stream",
     "text": [
      "_________________________________________________________________\n",
      "Layer (type)                 Output Shape              Param #   \n",
      "=================================================================\n",
      "z_sampling (InputLayer)      (None, 2)                 0         \n",
      "_________________________________________________________________\n",
      "dense_7 (Dense)              (None, 512)               1536      \n",
      "_________________________________________________________________\n",
      "dense_8 (Dense)              (None, 1024)              525312    \n",
      "_________________________________________________________________\n",
      "dense_9 (Dense)              (None, 1536)              1574400   \n",
      "_________________________________________________________________\n",
      "dense_10 (Dense)             (None, 5000)              7685000   \n",
      "=================================================================\n",
      "Total params: 9,786,248\n",
      "Trainable params: 9,786,248\n",
      "Non-trainable params: 0\n",
      "_________________________________________________________________\n"
     ]
    }
   ],
   "source": [
    "# instantiate decoder\n",
    "decoder = Model(latent_inputs, outputs, name='decoder')\n",
    "decoder.summary()\n",
    "\n",
    "plot_model(decoder, to_file='vae_mlp_fc_decoder.png', show_shapes=True)"
   ]
  },
  {
   "cell_type": "code",
   "execution_count": 15,
   "metadata": {},
   "outputs": [],
   "source": [
    "# instantiate VAE model\n",
    "outputs = decoder(encoder(inputs)[2])\n",
    "vae = Model(inputs, outputs, name='vae_mlp_fc')"
   ]
  },
  {
   "cell_type": "code",
   "execution_count": 16,
   "metadata": {},
   "outputs": [],
   "source": [
    "reconstruction_loss = mse(inputs, outputs)\n",
    "reconstruction_loss *= original_dim\n",
    "kl_loss = 1 + z_log_var - K.square(z_mean) - K.exp(z_log_var)\n",
    "kl_loss = K.sum(kl_loss, axis=-1)\n",
    "kl_loss *= -0.5\n",
    "\n",
    "vae_loss = K.mean(reconstruction_loss + kl_loss)"
   ]
  },
  {
   "cell_type": "code",
   "execution_count": 17,
   "metadata": {},
   "outputs": [
    {
     "name": "stdout",
     "output_type": "stream",
     "text": [
      "WARNING:tensorflow:Output \"decoder\" missing from loss dictionary. We assume this was done on purpose. The fit and evaluate APIs will not be expecting any data to be passed to \"decoder\".\n",
      "_________________________________________________________________\n",
      "Layer (type)                 Output Shape              Param #   \n",
      "=================================================================\n",
      "encoder_input (InputLayer)   (None, 5000)              0         \n",
      "_________________________________________________________________\n",
      "encoder (Model)              [(None, 2), (None, 2), (N 9782276   \n",
      "_________________________________________________________________\n",
      "decoder (Model)              (None, 5000)              9786248   \n",
      "=================================================================\n",
      "Total params: 19,568,524\n",
      "Trainable params: 19,568,524\n",
      "Non-trainable params: 0\n",
      "_________________________________________________________________\n"
     ]
    }
   ],
   "source": [
    "vae.add_loss(vae_loss)\n",
    "vae.compile(optimizer='adam')\n",
    "vae.summary()\n",
    "\n",
    "plot_model(vae, to_file='vae_mlp_fc.png', show_shapes=True)"
   ]
  },
  {
   "cell_type": "code",
   "execution_count": 18,
   "metadata": {},
   "outputs": [],
   "source": [
    "def plot_loss(model):\n",
    "    loss = model.history['loss']\n",
    "    val_loss = model.history['val_loss']\n",
    "    plt.figure()\n",
    "    plt.plot(loss, 'r-', label='Training loss')\n",
    "    plt.plot(val_loss, 'b-', label='Validation loss')\n",
    "    plt.title('Training and validation loss')\n",
    "    plt.legend()\n",
    "    plt.show()\n",
    "\n",
    "    \n",
    "def plot_decoded(decoded_x, n):\n",
    "    idxs = range(INPUT_LENGTH)\n",
    "\n",
    "    fig, ax = plt.subplots(nrows=n, ncols=n, figsize=(15,10))\n",
    "    fig.patch.set_visible(False)\n",
    "\n",
    "    for i, row in enumerate(ax):\n",
    "        for j, col in enumerate(row):\n",
    "            col.axis('off')\n",
    "            col.plot(idxs, decoded_x[i * n + j].tolist())\n",
    "    plt.savefig('grid_generated.png', facecolor='w')\n",
    "    print(\"*****   Manifold generation complete   *****\")\n",
    "\n",
    "\n",
    "def plot_confusion_matrix(matrix):\n",
    "    df_cm = pd.DataFrame(matrix, [\"regular\", \"repeat\", \"chimeric\"], [\"regular\", \"repeat\", \"chimeric\"])\n",
    "    plt.figure(figsize=(10, 7))\n",
    "    sb.heatmap(df_cm, annot=True)\n",
    "    plt.show()"
   ]
  },
  {
   "cell_type": "code",
   "execution_count": 19,
   "metadata": {},
   "outputs": [
    {
     "name": "stdout",
     "output_type": "stream",
     "text": [
      "XS shape: (330, 5000)\n",
      "One-hot encoded YS shape: (330, 3)\n",
      "Train on 280 samples, validate on 50 samples\n",
      "Epoch 1/70\n",
      "280/280 [==============================] - 3s 12ms/step - loss: 416.1593 - val_loss: 532.2608\n",
      "Epoch 2/70\n",
      "280/280 [==============================] - 2s 7ms/step - loss: 341.2194 - val_loss: 271.6689\n",
      "Epoch 3/70\n",
      "280/280 [==============================] - 1s 5ms/step - loss: 269.9346 - val_loss: 399.7457\n",
      "Epoch 4/70\n",
      "280/280 [==============================] - 1s 5ms/step - loss: 185.8075 - val_loss: 405.9146\n",
      "Epoch 5/70\n",
      "280/280 [==============================] - 1s 5ms/step - loss: 179.9235 - val_loss: 342.7820\n",
      "Epoch 6/70\n",
      "280/280 [==============================] - 1s 4ms/step - loss: 148.2595 - val_loss: 280.8983\n",
      "Epoch 7/70\n",
      "280/280 [==============================] - 2s 7ms/step - loss: 148.1839 - val_loss: 260.4879\n",
      "Epoch 8/70\n",
      "280/280 [==============================] - 2s 7ms/step - loss: 120.6250 - val_loss: 251.3964\n",
      "Epoch 9/70\n",
      "280/280 [==============================] - 2s 8ms/step - loss: 108.0992 - val_loss: 230.8992\n",
      "Epoch 10/70\n",
      "280/280 [==============================] - 2s 8ms/step - loss: 106.3143 - val_loss: 216.2015\n",
      "Epoch 11/70\n",
      "280/280 [==============================] - 1s 5ms/step - loss: 98.0511 - val_loss: 234.3404\n",
      "Epoch 12/70\n",
      "280/280 [==============================] - 2s 8ms/step - loss: 93.6872 - val_loss: 210.5885\n",
      "Epoch 13/70\n",
      "280/280 [==============================] - 2s 8ms/step - loss: 77.2985 - val_loss: 205.1735\n",
      "Epoch 14/70\n",
      "280/280 [==============================] - 2s 7ms/step - loss: 90.4855 - val_loss: 172.0422\n",
      "Epoch 15/70\n",
      "280/280 [==============================] - 2s 8ms/step - loss: 69.1615 - val_loss: 131.8863\n",
      "Epoch 16/70\n",
      "280/280 [==============================] - 1s 5ms/step - loss: 56.0436 - val_loss: 148.6479\n",
      "Epoch 17/70\n",
      "280/280 [==============================] - 1s 5ms/step - loss: 50.6341 - val_loss: 133.1730\n",
      "Epoch 18/70\n",
      "280/280 [==============================] - 1s 5ms/step - loss: 57.8119 - val_loss: 158.0079\n",
      "Epoch 19/70\n",
      "280/280 [==============================] - 2s 7ms/step - loss: 60.3169 - val_loss: 130.1077\n",
      "Epoch 20/70\n",
      "280/280 [==============================] - 2s 7ms/step - loss: 49.9822 - val_loss: 123.7785\n",
      "Epoch 21/70\n",
      "280/280 [==============================] - 2s 7ms/step - loss: 40.4578 - val_loss: 97.4207\n",
      "Epoch 22/70\n",
      "280/280 [==============================] - 1s 5ms/step - loss: 45.7886 - val_loss: 154.3361\n",
      "Epoch 23/70\n",
      "280/280 [==============================] - 2s 8ms/step - loss: 72.1417 - val_loss: 91.6129\n",
      "Epoch 24/70\n",
      "280/280 [==============================] - 2s 8ms/step - loss: 49.6274 - val_loss: 87.8757\n",
      "Epoch 25/70\n",
      "280/280 [==============================] - 1s 5ms/step - loss: 43.6135 - val_loss: 97.1424\n",
      "Epoch 26/70\n",
      "280/280 [==============================] - 2s 8ms/step - loss: 42.5094 - val_loss: 82.9785\n",
      "Epoch 27/70\n",
      "280/280 [==============================] - 1s 5ms/step - loss: 36.4706 - val_loss: 93.2884\n",
      "Epoch 28/70\n",
      "280/280 [==============================] - 2s 7ms/step - loss: 35.3222 - val_loss: 80.2214\n",
      "Epoch 29/70\n",
      "280/280 [==============================] - 1s 5ms/step - loss: 34.4788 - val_loss: 99.9637\n",
      "Epoch 30/70\n",
      "280/280 [==============================] - 2s 8ms/step - loss: 35.1188 - val_loss: 71.4931\n",
      "Epoch 31/70\n",
      "280/280 [==============================] - 1s 5ms/step - loss: 31.9358 - val_loss: 73.3217\n",
      "Epoch 32/70\n",
      "280/280 [==============================] - 2s 8ms/step - loss: 29.8653 - val_loss: 71.4124\n",
      "Epoch 33/70\n",
      "280/280 [==============================] - 1s 5ms/step - loss: 30.9574 - val_loss: 71.7760\n",
      "Epoch 34/70\n",
      "280/280 [==============================] - 2s 8ms/step - loss: 29.7286 - val_loss: 63.6652\n",
      "Epoch 35/70\n",
      "280/280 [==============================] - 1s 5ms/step - loss: 29.5802 - val_loss: 66.7169\n",
      "Epoch 36/70\n",
      "280/280 [==============================] - 2s 7ms/step - loss: 29.1077 - val_loss: 59.0626\n",
      "Epoch 37/70\n",
      "280/280 [==============================] - 1s 4ms/step - loss: 28.8071 - val_loss: 64.7141\n",
      "Epoch 38/70\n",
      "280/280 [==============================] - 2s 7ms/step - loss: 27.8251 - val_loss: 57.9450\n",
      "Epoch 39/70\n",
      "280/280 [==============================] - 1s 5ms/step - loss: 28.1353 - val_loss: 59.0070\n",
      "Epoch 40/70\n",
      "280/280 [==============================] - 1s 5ms/step - loss: 27.5919 - val_loss: 60.5106\n",
      "Epoch 41/70\n",
      "280/280 [==============================] - 1s 5ms/step - loss: 29.4209 - val_loss: 60.5793\n",
      "Epoch 42/70\n",
      "280/280 [==============================] - 1s 4ms/step - loss: 29.5780 - val_loss: 64.4377\n",
      "Epoch 43/70\n",
      "280/280 [==============================] - 2s 8ms/step - loss: 28.7162 - val_loss: 56.7252\n",
      "Epoch 44/70\n",
      "280/280 [==============================] - 1s 5ms/step - loss: 29.7078 - val_loss: 66.6838\n",
      "Epoch 45/70\n",
      "280/280 [==============================] - 1s 5ms/step - loss: 31.7429 - val_loss: 62.5656\n",
      "Epoch 46/70\n",
      "280/280 [==============================] - 1s 5ms/step - loss: 31.6629 - val_loss: 57.6077\n",
      "Epoch 47/70\n",
      "280/280 [==============================] - 1s 4ms/step - loss: 30.5132 - val_loss: 62.8679\n",
      "Epoch 48/70\n",
      "280/280 [==============================] - 2s 8ms/step - loss: 28.9249 - val_loss: 53.2894\n",
      "Epoch 49/70\n",
      "280/280 [==============================] - 1s 5ms/step - loss: 26.9757 - val_loss: 60.9735\n",
      "Epoch 50/70\n",
      "280/280 [==============================] - 2s 8ms/step - loss: 27.3358 - val_loss: 53.2182\n",
      "Epoch 51/70\n",
      "280/280 [==============================] - 2s 8ms/step - loss: 26.3731 - val_loss: 51.6118\n",
      "Epoch 52/70\n",
      "280/280 [==============================] - 1s 4ms/step - loss: 25.3742 - val_loss: 52.7908\n",
      "Epoch 53/70\n",
      "280/280 [==============================] - 2s 8ms/step - loss: 24.9801 - val_loss: 48.2830\n",
      "Epoch 54/70\n",
      "280/280 [==============================] - 2s 7ms/step - loss: 24.1319 - val_loss: 45.5233\n",
      "Epoch 55/70\n",
      "280/280 [==============================] - 2s 8ms/step - loss: 23.1666 - val_loss: 45.2955\n",
      "Epoch 56/70\n",
      "280/280 [==============================] - 2s 7ms/step - loss: 23.1887 - val_loss: 43.8759\n",
      "Epoch 57/70\n",
      "280/280 [==============================] - 2s 7ms/step - loss: 23.6450 - val_loss: 40.5522\n",
      "Epoch 58/70\n",
      "280/280 [==============================] - 1s 5ms/step - loss: 24.1024 - val_loss: 47.6953\n",
      "Epoch 59/70\n",
      "280/280 [==============================] - 1s 4ms/step - loss: 24.5411 - val_loss: 45.7051\n",
      "Epoch 60/70\n",
      "280/280 [==============================] - 1s 5ms/step - loss: 24.1924 - val_loss: 43.8401\n",
      "Epoch 61/70\n",
      "280/280 [==============================] - 1s 5ms/step - loss: 23.5901 - val_loss: 43.1256\n",
      "Epoch 62/70\n",
      "280/280 [==============================] - 2s 7ms/step - loss: 24.5521 - val_loss: 39.8091\n",
      "Epoch 63/70\n",
      "280/280 [==============================] - 1s 5ms/step - loss: 23.3519 - val_loss: 45.4006\n",
      "Epoch 64/70\n",
      "280/280 [==============================] - 2s 7ms/step - loss: 24.3346 - val_loss: 38.4186\n",
      "Epoch 65/70\n",
      "280/280 [==============================] - 1s 5ms/step - loss: 22.9500 - val_loss: 47.3670\n",
      "Epoch 66/70\n",
      "280/280 [==============================] - 1s 5ms/step - loss: 22.8911 - val_loss: 44.4426\n",
      "Epoch 67/70\n",
      "280/280 [==============================] - 1s 5ms/step - loss: 22.1967 - val_loss: 51.2077\n",
      "Epoch 68/70\n",
      "280/280 [==============================] - 1s 4ms/step - loss: 23.5889 - val_loss: 40.8733\n",
      "Epoch 69/70\n",
      "280/280 [==============================] - 1s 5ms/step - loss: 23.5785 - val_loss: 42.6018\n",
      "Epoch 00069: early stopping\n"
     ]
    },
    {
     "data": {
      "image/png": "[encoded data removed]",
      "text/plain": [
       "<Figure size 432x288 with 1 Axes>"
      ]
     },
     "metadata": {},
     "output_type": "display_data"
    }
   ],
   "source": [
    "# patient early stopping\n",
    "es = EarlyStopping(monitor='val_loss', mode='min', verbose=1, patience=5)\n",
    "cp = ModelCheckpoint(filepath=\"vae_mlp_fc.h5\", save_best_only=True, verbose=0)\n",
    "\n",
    "train_x, train_y, test_x, test_y = create_datasets(\"/floyd/input/labeled_400/categorized_400.tsv\")\n",
    "train_x = train_x / np.max(train_x)\n",
    "test_x = test_x / np.max(test_x)\n",
    "\n",
    "history = vae.fit(train_x, epochs=epochs, batch_size=batch_size, validation_data=(test_x, None), callbacks=[es, cp])\n",
    "plot_loss(history)"
   ]
  },
  {
   "cell_type": "code",
   "execution_count": 24,
   "metadata": {},
   "outputs": [
    {
     "name": "stdout",
     "output_type": "stream",
     "text": [
      "Training Z shape: (280, 2)\n",
      "Epoch 1/20\n",
      "280/280 [==============================] - 0s 1ms/step - loss: 1.0137\n",
      "Epoch 2/20\n",
      "280/280 [==============================] - 0s 45us/step - loss: 0.9007\n",
      "Epoch 3/20\n",
      "280/280 [==============================] - 0s 42us/step - loss: 0.8298\n",
      "Epoch 4/20\n",
      "280/280 [==============================] - 0s 43us/step - loss: 0.7815\n",
      "Epoch 5/20\n",
      "280/280 [==============================] - 0s 43us/step - loss: 0.7489\n",
      "Epoch 6/20\n",
      "280/280 [==============================] - 0s 44us/step - loss: 0.7250\n",
      "Epoch 7/20\n",
      "280/280 [==============================] - 0s 43us/step - loss: 0.7080\n",
      "Epoch 8/20\n",
      "280/280 [==============================] - 0s 44us/step - loss: 0.6957\n",
      "Epoch 9/20\n",
      "280/280 [==============================] - 0s 42us/step - loss: 0.6837\n",
      "Epoch 10/20\n",
      "280/280 [==============================] - 0s 42us/step - loss: 0.6743\n",
      "Epoch 11/20\n",
      "280/280 [==============================] - 0s 41us/step - loss: 0.6653\n",
      "Epoch 12/20\n",
      "280/280 [==============================] - 0s 44us/step - loss: 0.6574\n",
      "Epoch 13/20\n",
      "280/280 [==============================] - 0s 48us/step - loss: 0.6510\n",
      "Epoch 14/20\n",
      "280/280 [==============================] - 0s 47us/step - loss: 0.6450\n",
      "Epoch 15/20\n",
      "280/280 [==============================] - 0s 45us/step - loss: 0.6387\n",
      "Epoch 16/20\n",
      "280/280 [==============================] - 0s 44us/step - loss: 0.6355\n",
      "Epoch 17/20\n",
      "280/280 [==============================] - 0s 51us/step - loss: 0.6299\n",
      "Epoch 18/20\n",
      "280/280 [==============================] - 0s 51us/step - loss: 0.6256\n",
      "Epoch 19/20\n",
      "280/280 [==============================] - 0s 40us/step - loss: 0.6253\n",
      "Epoch 20/20\n",
      "280/280 [==============================] - 0s 41us/step - loss: 0.6179\n"
     ]
    },
    {
     "ename": "KeyError",
     "evalue": "'val_loss'",
     "output_type": "error",
     "traceback": [
      "\u001b[0;31m---------------------------------------------------------------------------\u001b[0m",
      "\u001b[0;31mKeyError\u001b[0m                                  Traceback (most recent call last)",
      "\u001b[0;32m<ipython-input-24-5399ee1ad53a>\u001b[0m in \u001b[0;36m<module>\u001b[0;34m()\u001b[0m\n\u001b[1;32m     11\u001b[0m \u001b[0;34m\u001b[0m\u001b[0m\n\u001b[1;32m     12\u001b[0m \u001b[0mtrain_loss\u001b[0m \u001b[0;34m=\u001b[0m \u001b[0mclf\u001b[0m\u001b[0;34m.\u001b[0m\u001b[0mfit\u001b[0m\u001b[0;34m(\u001b[0m\u001b[0mtrain_z\u001b[0m\u001b[0;34m,\u001b[0m \u001b[0mtrain_y\u001b[0m\u001b[0;34m,\u001b[0m \u001b[0mbatch_size\u001b[0m\u001b[0;34m=\u001b[0m\u001b[0;36m32\u001b[0m\u001b[0;34m,\u001b[0m \u001b[0mepochs\u001b[0m\u001b[0;34m=\u001b[0m\u001b[0;36m20\u001b[0m\u001b[0;34m)\u001b[0m\u001b[0;34m\u001b[0m\u001b[0m\n\u001b[0;32m---> 13\u001b[0;31m \u001b[0mplot_loss\u001b[0m\u001b[0;34m(\u001b[0m\u001b[0mtrain_loss\u001b[0m\u001b[0;34m)\u001b[0m\u001b[0;34m\u001b[0m\u001b[0m\n\u001b[0m",
      "\u001b[0;32m<ipython-input-18-38fafde09569>\u001b[0m in \u001b[0;36mplot_loss\u001b[0;34m(model)\u001b[0m\n\u001b[1;32m      1\u001b[0m \u001b[0;32mdef\u001b[0m \u001b[0mplot_loss\u001b[0m\u001b[0;34m(\u001b[0m\u001b[0mmodel\u001b[0m\u001b[0;34m)\u001b[0m\u001b[0;34m:\u001b[0m\u001b[0;34m\u001b[0m\u001b[0m\n\u001b[1;32m      2\u001b[0m     \u001b[0mloss\u001b[0m \u001b[0;34m=\u001b[0m \u001b[0mmodel\u001b[0m\u001b[0;34m.\u001b[0m\u001b[0mhistory\u001b[0m\u001b[0;34m[\u001b[0m\u001b[0;34m'loss'\u001b[0m\u001b[0;34m]\u001b[0m\u001b[0;34m\u001b[0m\u001b[0m\n\u001b[0;32m----> 3\u001b[0;31m     \u001b[0mval_loss\u001b[0m \u001b[0;34m=\u001b[0m \u001b[0mmodel\u001b[0m\u001b[0;34m.\u001b[0m\u001b[0mhistory\u001b[0m\u001b[0;34m[\u001b[0m\u001b[0;34m'val_loss'\u001b[0m\u001b[0;34m]\u001b[0m\u001b[0;34m\u001b[0m\u001b[0m\n\u001b[0m\u001b[1;32m      4\u001b[0m     \u001b[0mplt\u001b[0m\u001b[0;34m.\u001b[0m\u001b[0mfigure\u001b[0m\u001b[0;34m(\u001b[0m\u001b[0;34m)\u001b[0m\u001b[0;34m\u001b[0m\u001b[0m\n\u001b[1;32m      5\u001b[0m     \u001b[0mplt\u001b[0m\u001b[0;34m.\u001b[0m\u001b[0mplot\u001b[0m\u001b[0;34m(\u001b[0m\u001b[0mloss\u001b[0m\u001b[0;34m,\u001b[0m \u001b[0;34m'r-'\u001b[0m\u001b[0;34m,\u001b[0m \u001b[0mlabel\u001b[0m\u001b[0;34m=\u001b[0m\u001b[0;34m'Training loss'\u001b[0m\u001b[0;34m)\u001b[0m\u001b[0;34m\u001b[0m\u001b[0m\n",
      "\u001b[0;31mKeyError\u001b[0m: 'val_loss'"
     ]
    }
   ],
   "source": [
    "# Train SVM classifier on training labels \\& training latent samples\n",
    "train_z, _, _ = encoder.predict(train_x, batch_size=batch_size)\n",
    "print(\"Training Z shape: {}\".format(train_z.shape))\n",
    "\n",
    "clf = Sequential([\n",
    "    Dense(50, activation='relu'),\n",
    "    Dense(50, activation='relu'),\n",
    "    Dense(NUM_CLASSES, activation='softmax')\n",
    "])\n",
    "clf.compile(optimizer='adam', loss='categorical_crossentropy')\n",
    "\n",
    "train_loss = clf.fit(train_z, train_y, batch_size=32, epochs=70)\n",
    "plot_loss(train_loss)"
   ]
  },
  {
   "cell_type": "code",
   "execution_count": 15,
   "metadata": {},
   "outputs": [
    {
     "name": "stdout",
     "output_type": "stream",
     "text": [
      "(900, 5000)\n",
      "*****   Manifold generation complete   *****\n"
     ]
    },
    {
     "ename": "ValueError",
     "evalue": "list.remove(x): x not in list",
     "output_type": "error",
     "traceback": [
      "\u001b[0;31m---------------------------------------------------------------------------\u001b[0m",
      "\u001b[0;31mValueError\u001b[0m                                Traceback (most recent call last)",
      "\u001b[0;32m/usr/local/lib/python3.6/site-packages/IPython/core/formatters.py\u001b[0m in \u001b[0;36m__call__\u001b[0;34m(self, obj)\u001b[0m\n\u001b[1;32m    339\u001b[0m                 \u001b[0;32mpass\u001b[0m\u001b[0;34m\u001b[0m\u001b[0m\n\u001b[1;32m    340\u001b[0m             \u001b[0;32melse\u001b[0m\u001b[0;34m:\u001b[0m\u001b[0;34m\u001b[0m\u001b[0m\n\u001b[0;32m--> 341\u001b[0;31m                 \u001b[0;32mreturn\u001b[0m \u001b[0mprinter\u001b[0m\u001b[0;34m(\u001b[0m\u001b[0mobj\u001b[0m\u001b[0;34m)\u001b[0m\u001b[0;34m\u001b[0m\u001b[0m\n\u001b[0m\u001b[1;32m    342\u001b[0m             \u001b[0;31m# Finally look for special method names\u001b[0m\u001b[0;34m\u001b[0m\u001b[0;34m\u001b[0m\u001b[0m\n\u001b[1;32m    343\u001b[0m             \u001b[0mmethod\u001b[0m \u001b[0;34m=\u001b[0m \u001b[0mget_real_method\u001b[0m\u001b[0;34m(\u001b[0m\u001b[0mobj\u001b[0m\u001b[0;34m,\u001b[0m \u001b[0mself\u001b[0m\u001b[0;34m.\u001b[0m\u001b[0mprint_method\u001b[0m\u001b[0;34m)\u001b[0m\u001b[0;34m\u001b[0m\u001b[0m\n",
      "\u001b[0;32m/usr/local/lib/python3.6/site-packages/IPython/core/pylabtools.py\u001b[0m in \u001b[0;36m<lambda>\u001b[0;34m(fig)\u001b[0m\n\u001b[1;32m    239\u001b[0m \u001b[0;34m\u001b[0m\u001b[0m\n\u001b[1;32m    240\u001b[0m     \u001b[0;32mif\u001b[0m \u001b[0;34m'png'\u001b[0m \u001b[0;32min\u001b[0m \u001b[0mformats\u001b[0m\u001b[0;34m:\u001b[0m\u001b[0;34m\u001b[0m\u001b[0m\n\u001b[0;32m--> 241\u001b[0;31m         \u001b[0mpng_formatter\u001b[0m\u001b[0;34m.\u001b[0m\u001b[0mfor_type\u001b[0m\u001b[0;34m(\u001b[0m\u001b[0mFigure\u001b[0m\u001b[0;34m,\u001b[0m \u001b[0;32mlambda\u001b[0m \u001b[0mfig\u001b[0m\u001b[0;34m:\u001b[0m \u001b[0mprint_figure\u001b[0m\u001b[0;34m(\u001b[0m\u001b[0mfig\u001b[0m\u001b[0;34m,\u001b[0m \u001b[0;34m'png'\u001b[0m\u001b[0;34m,\u001b[0m \u001b[0;34m**\u001b[0m\u001b[0mkwargs\u001b[0m\u001b[0;34m)\u001b[0m\u001b[0;34m)\u001b[0m\u001b[0;34m\u001b[0m\u001b[0m\n\u001b[0m\u001b[1;32m    242\u001b[0m     \u001b[0;32mif\u001b[0m \u001b[0;34m'retina'\u001b[0m \u001b[0;32min\u001b[0m \u001b[0mformats\u001b[0m \u001b[0;32mor\u001b[0m \u001b[0;34m'png2x'\u001b[0m \u001b[0;32min\u001b[0m \u001b[0mformats\u001b[0m\u001b[0;34m:\u001b[0m\u001b[0;34m\u001b[0m\u001b[0m\n\u001b[1;32m    243\u001b[0m         \u001b[0mpng_formatter\u001b[0m\u001b[0;34m.\u001b[0m\u001b[0mfor_type\u001b[0m\u001b[0;34m(\u001b[0m\u001b[0mFigure\u001b[0m\u001b[0;34m,\u001b[0m \u001b[0;32mlambda\u001b[0m \u001b[0mfig\u001b[0m\u001b[0;34m:\u001b[0m \u001b[0mretina_figure\u001b[0m\u001b[0;34m(\u001b[0m\u001b[0mfig\u001b[0m\u001b[0;34m,\u001b[0m \u001b[0;34m**\u001b[0m\u001b[0mkwargs\u001b[0m\u001b[0;34m)\u001b[0m\u001b[0;34m)\u001b[0m\u001b[0;34m\u001b[0m\u001b[0m\n",
      "\u001b[0;32m/usr/local/lib/python3.6/site-packages/IPython/core/pylabtools.py\u001b[0m in \u001b[0;36mprint_figure\u001b[0;34m(fig, fmt, bbox_inches, **kwargs)\u001b[0m\n\u001b[1;32m    123\u001b[0m \u001b[0;34m\u001b[0m\u001b[0m\n\u001b[1;32m    124\u001b[0m     \u001b[0mbytes_io\u001b[0m \u001b[0;34m=\u001b[0m \u001b[0mBytesIO\u001b[0m\u001b[0;34m(\u001b[0m\u001b[0;34m)\u001b[0m\u001b[0;34m\u001b[0m\u001b[0m\n\u001b[0;32m--> 125\u001b[0;31m     \u001b[0mfig\u001b[0m\u001b[0;34m.\u001b[0m\u001b[0mcanvas\u001b[0m\u001b[0;34m.\u001b[0m\u001b[0mprint_figure\u001b[0m\u001b[0;34m(\u001b[0m\u001b[0mbytes_io\u001b[0m\u001b[0;34m,\u001b[0m \u001b[0;34m**\u001b[0m\u001b[0mkw\u001b[0m\u001b[0;34m)\u001b[0m\u001b[0;34m\u001b[0m\u001b[0m\n\u001b[0m\u001b[1;32m    126\u001b[0m     \u001b[0mdata\u001b[0m \u001b[0;34m=\u001b[0m \u001b[0mbytes_io\u001b[0m\u001b[0;34m.\u001b[0m\u001b[0mgetvalue\u001b[0m\u001b[0;34m(\u001b[0m\u001b[0;34m)\u001b[0m\u001b[0;34m\u001b[0m\u001b[0m\n\u001b[1;32m    127\u001b[0m     \u001b[0;32mif\u001b[0m \u001b[0mfmt\u001b[0m \u001b[0;34m==\u001b[0m \u001b[0;34m'svg'\u001b[0m\u001b[0;34m:\u001b[0m\u001b[0;34m\u001b[0m\u001b[0m\n",
      "\u001b[0;32m/usr/local/lib/python3.6/site-packages/matplotlib/backend_bases.py\u001b[0m in \u001b[0;36mprint_figure\u001b[0;34m(self, filename, dpi, facecolor, edgecolor, orientation, format, bbox_inches, **kwargs)\u001b[0m\n\u001b[1;32m   2058\u001b[0m                     \u001b[0mbbox_artists\u001b[0m \u001b[0;34m=\u001b[0m \u001b[0mkwargs\u001b[0m\u001b[0;34m.\u001b[0m\u001b[0mpop\u001b[0m\u001b[0;34m(\u001b[0m\u001b[0;34m\"bbox_extra_artists\"\u001b[0m\u001b[0;34m,\u001b[0m \u001b[0;32mNone\u001b[0m\u001b[0;34m)\u001b[0m\u001b[0;34m\u001b[0m\u001b[0m\n\u001b[1;32m   2059\u001b[0m                     bbox_inches = self.figure.get_tightbbox(renderer,\n\u001b[0;32m-> 2060\u001b[0;31m                             bbox_extra_artists=bbox_artists)\n\u001b[0m\u001b[1;32m   2061\u001b[0m                     \u001b[0mpad\u001b[0m \u001b[0;34m=\u001b[0m \u001b[0mkwargs\u001b[0m\u001b[0;34m.\u001b[0m\u001b[0mpop\u001b[0m\u001b[0;34m(\u001b[0m\u001b[0;34m\"pad_inches\"\u001b[0m\u001b[0;34m,\u001b[0m \u001b[0;32mNone\u001b[0m\u001b[0;34m)\u001b[0m\u001b[0;34m\u001b[0m\u001b[0m\n\u001b[1;32m   2062\u001b[0m                     \u001b[0;32mif\u001b[0m \u001b[0mpad\u001b[0m \u001b[0;32mis\u001b[0m \u001b[0;32mNone\u001b[0m\u001b[0;34m:\u001b[0m\u001b[0;34m\u001b[0m\u001b[0m\n",
      "\u001b[0;32m/usr/local/lib/python3.6/site-packages/matplotlib/figure.py\u001b[0m in \u001b[0;36mget_tightbbox\u001b[0;34m(self, renderer, bbox_extra_artists)\u001b[0m\n\u001b[1;32m   2359\u001b[0m         \u001b[0mbb\u001b[0m \u001b[0;34m=\u001b[0m \u001b[0;34m[\u001b[0m\u001b[0;34m]\u001b[0m\u001b[0;34m\u001b[0m\u001b[0m\n\u001b[1;32m   2360\u001b[0m         \u001b[0;32mif\u001b[0m \u001b[0mbbox_extra_artists\u001b[0m \u001b[0;32mis\u001b[0m \u001b[0;32mNone\u001b[0m\u001b[0;34m:\u001b[0m\u001b[0;34m\u001b[0m\u001b[0m\n\u001b[0;32m-> 2361\u001b[0;31m             \u001b[0martists\u001b[0m \u001b[0;34m=\u001b[0m \u001b[0mself\u001b[0m\u001b[0;34m.\u001b[0m\u001b[0mget_default_bbox_extra_artists\u001b[0m\u001b[0;34m(\u001b[0m\u001b[0;34m)\u001b[0m\u001b[0;34m\u001b[0m\u001b[0m\n\u001b[0m\u001b[1;32m   2362\u001b[0m         \u001b[0;32melse\u001b[0m\u001b[0;34m:\u001b[0m\u001b[0;34m\u001b[0m\u001b[0m\n\u001b[1;32m   2363\u001b[0m             \u001b[0martists\u001b[0m \u001b[0;34m=\u001b[0m \u001b[0mbbox_extra_artists\u001b[0m\u001b[0;34m\u001b[0m\u001b[0m\n",
      "\u001b[0;32m/usr/local/lib/python3.6/site-packages/matplotlib/figure.py\u001b[0m in \u001b[0;36mget_default_bbox_extra_artists\u001b[0;34m(self)\u001b[0m\n\u001b[1;32m   2330\u001b[0m                 \u001b[0mbbox_artists\u001b[0m\u001b[0;34m.\u001b[0m\u001b[0mextend\u001b[0m\u001b[0;34m(\u001b[0m\u001b[0max\u001b[0m\u001b[0;34m.\u001b[0m\u001b[0mget_default_bbox_extra_artists\u001b[0m\u001b[0;34m(\u001b[0m\u001b[0;34m)\u001b[0m\u001b[0;34m)\u001b[0m\u001b[0;34m\u001b[0m\u001b[0m\n\u001b[1;32m   2331\u001b[0m         \u001b[0;31m# we don't want the figure's patch to influence the bbox calculation\u001b[0m\u001b[0;34m\u001b[0m\u001b[0;34m\u001b[0m\u001b[0m\n\u001b[0;32m-> 2332\u001b[0;31m         \u001b[0mbbox_artists\u001b[0m\u001b[0;34m.\u001b[0m\u001b[0mremove\u001b[0m\u001b[0;34m(\u001b[0m\u001b[0mself\u001b[0m\u001b[0;34m.\u001b[0m\u001b[0mpatch\u001b[0m\u001b[0;34m)\u001b[0m\u001b[0;34m\u001b[0m\u001b[0m\n\u001b[0m\u001b[1;32m   2333\u001b[0m         \u001b[0;32mreturn\u001b[0m \u001b[0mbbox_artists\u001b[0m\u001b[0;34m\u001b[0m\u001b[0m\n\u001b[1;32m   2334\u001b[0m \u001b[0;34m\u001b[0m\u001b[0m\n",
      "\u001b[0;31mValueError\u001b[0m: list.remove(x): x not in list"
     ]
    },
    {
     "data": {
      "text/plain": [
       "<Figure size 1080x720 with 900 Axes>"
      ]
     },
     "metadata": {},
     "output_type": "display_data"
    }
   ],
   "source": [
    "n = 30  # how many overlaps we will display\n",
    "u_grid = np.dstack(np.meshgrid(np.linspace(0.01, 0.99, n), np.linspace(0.01, 0.99, n)))\n",
    "z_grid = norm.ppf(u_grid)\n",
    " \n",
    "recons_x = decoder.predict(z_grid.reshape(n * n, 2))\n",
    "print(recons_x.shape)\n",
    "\n",
    "plot_decoded(recons_x, n)"
   ]
  },
  {
   "cell_type": "code",
   "execution_count": 16,
   "metadata": {},
   "outputs": [
    {
     "data": {
      "image/png": "[encoded data removed]",
      "text/plain": [
       "<Figure size 864x720 with 1 Axes>"
      ]
     },
     "metadata": {},
     "output_type": "display_data"
    },
    {
     "name": "stdout",
     "output_type": "stream",
     "text": [
      "[1 1 0 1 1 1 1 0 1 1 0 1 1 1 1 0 1 1 0 1 1 1 1 1 1 1 1 1 1 1 1 0 1 0 0 1 0\n",
      " 1 0 1 1 1 1 1 1 1 1 0 1 0]\n"
     ]
    },
    {
     "data": {
      "image/png": "[encoded data removed]",
      "text/plain": [
       "<Figure size 720x504 with 2 Axes>"
      ]
     },
     "metadata": {},
     "output_type": "display_data"
    },
    {
     "name": "stdout",
     "output_type": "stream",
     "text": [
      "             precision    recall  f1-score   support\n",
      "\n",
      "          0       0.50      0.50      0.50        12\n",
      "          1       0.82      0.89      0.85        35\n",
      "          2       0.00      0.00      0.00         3\n",
      "\n",
      "avg / total       0.69      0.74      0.71        50\n",
      "\n"
     ]
    },
    {
     "name": "stderr",
     "output_type": "stream",
     "text": [
      "/usr/local/lib/python3.6/site-packages/sklearn/metrics/classification.py:1135: UndefinedMetricWarning: Precision and F-score are ill-defined and being set to 0.0 in labels with no predicted samples.\n",
      "  'precision', 'predicted', average, warn_for)\n"
     ]
    }
   ],
   "source": [
    "# Test classifier\n",
    "test_z, _, _ = encoder.predict(test_x, batch_size=batch_size)\n",
    "\n",
    "plt.figure(figsize=(12, 10))\n",
    "plt.scatter(test_z[:, 0], test_z[:, 1], c=test_y)\n",
    "plt.xlabel(\"z[0]\")\n",
    "plt.ylabel(\"z[1]\")\n",
    "plt.show()\n",
    "\n",
    "\n",
    "pred_y = svm.predict(test_z)\n",
    "print(pred_y)\n",
    "\n",
    "matrix = metrics.confusion_matrix(test_y.argmax(axis=1), pred_y)\n",
    "plot_confusion_matrix(matrix)\n",
    "\n",
    "print(metrics.classification_report(test_y.argmax(axis=1), pred_y))"
   ]
  },
  {
   "cell_type": "code",
   "execution_count": null,
   "metadata": {},
   "outputs": [],
   "source": []
  }
 ],
 "metadata": {
  "kernelspec": {
   "display_name": "Python 3",
   "language": "python",
   "name": "python3"
  },
  "language_info": {
   "codemirror_mode": {
    "name": "ipython",
    "version": 3
   },
   "file_extension": ".py",
   "mimetype": "text/x-python",
   "name": "python",
   "nbconvert_exporter": "python",
   "pygments_lexer": "ipython3",
   "version": "3.6.5"
  }
 },
 "nbformat": 4,
 "nbformat_minor": 2
}
