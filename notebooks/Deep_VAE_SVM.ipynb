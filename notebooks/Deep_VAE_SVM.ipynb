{
 "cells": [
  {
   "cell_type": "code",
   "execution_count": 13,
   "metadata": {},
   "outputs": [],
   "source": [
    "import tensorflow as tf\n",
    "import pandas as pd\n",
    "import numpy as np\n",
    "import seaborn as sb\n",
    "import matplotlib.pyplot as plt\n",
    "from sklearn.svm import SVC\n",
    "import sklearn.metrics as metrics\n",
    "from sklearn.model_selection import train_test_split\n",
    "from tensorflow.keras.utils import to_categorical\n",
    "from tensorflow.keras import Sequential, Input, Model, regularizers\n",
    "from tensorflow.keras.layers import Lambda, Input, Dense\n",
    "from tensorflow.keras.models import Model\n",
    "from keras.datasets import mnist\n",
    "from keras.losses import mse, binary_crossentropy\n",
    "from keras.utils import plot_model\n",
    "from keras.callbacks import EarlyStopping, ModelCheckpoint\n",
    "from keras import backend as K\n",
    "\n",
    "from scipy.stats import norm"
   ]
  },
  {
   "cell_type": "code",
   "execution_count": 14,
   "metadata": {},
   "outputs": [],
   "source": [
    "# z = z_mean + sqrt(var) * epsilon\n",
    "def sampling(args):\n",
    "    z_mean, z_log_var = args\n",
    "    batch = K.shape(z_mean)[0]\n",
    "    dim = K.int_shape(z_mean)[1]\n",
    "    \n",
    "    epsilon = K.random_normal(shape=(batch, dim))\n",
    "    return z_mean + K.exp(0.5 * z_log_var) * epsilon"
   ]
  },
  {
   "cell_type": "code",
   "execution_count": 15,
   "metadata": {},
   "outputs": [],
   "source": [
    "# network parameters\n",
    "original_dim = 5000 * 1\n",
    "input_shape = (original_dim, )\n",
    "intermediate_dim_0 = 1536\n",
    "intermediate_dim_1 = 1024\n",
    "intermediate_dim_2 = 512\n",
    "batch_size = 128\n",
    "latent_dim = 2\n",
    "epochs = 70\n",
    "\n",
    "REGULAR = \"reg\"\n",
    "CHIMERIC = \"chi\"\n",
    "REPEAT = \"rep\"\n",
    "LOW_QUALITY = \"loq\"\n",
    "\n",
    "INPUT_LENGTH = 5000\n",
    "INPUT_THRESHOLD = 1000\n",
    "\n",
    "NUM_CLASSES = 3\n",
    "\n",
    "\n",
    "def create_datasets(tsv_input):\n",
    "    data = pd.read_csv(tsv_input, delimiter=\"\\t\")\n",
    "\n",
    "    # Filter out all low quality reads\n",
    "    data = data.loc[data.CAT != LOW_QUALITY]\n",
    "\n",
    "    # Convert sequence string to float array\n",
    "    data.PTS = data.PTS.apply(string_to_array)\n",
    "\n",
    "    # Convert labels from strings to ints\n",
    "    ys = data.CAT.apply(category_to_int).to_numpy()\n",
    "    xs = np.stack(data.PTS.array)\n",
    "\n",
    "    encoded_ys = to_categorical(ys, num_classes=NUM_CLASSES)\n",
    "\n",
    "    print(\"XS shape: {}\".format(xs.shape))\n",
    "    print(\"One-hot encoded YS shape: {}\".format(encoded_ys.shape))\n",
    "\n",
    "    train_x, test_x, train_y, test_y = train_test_split(xs, encoded_ys, test_size=0.15)\n",
    "\n",
    "    return train_x, train_y, test_x, test_y\n",
    "\n",
    "def string_to_array(data):\n",
    "    data_string = str(data)\n",
    "    split = data_string.split(',')\n",
    "\n",
    "    return np.array([float(i) for i in split])\n",
    "\n",
    "\n",
    "def category_to_int(data):\n",
    "    category = str(data)\n",
    "    if category == REGULAR:\n",
    "        return 0\n",
    "    elif category == REPEAT:\n",
    "        return 1\n",
    "    else:\n",
    "        return 2\n",
    "    \n",
    "def plot_loss(model):\n",
    "    loss = model.history['loss']\n",
    "    val_loss = model.history['val_loss']\n",
    "    plt.figure()\n",
    "    plt.plot(loss, 'r-', label='Training loss')\n",
    "    plt.plot(val_loss, 'b-', label='Validation loss')\n",
    "    plt.title('Training and validation loss')\n",
    "    plt.legend()\n",
    "    plt.show()\n",
    "\n",
    "    \n",
    "def plot_decoded(decoded_x, n):\n",
    "    idxs = range(INPUT_LENGTH)\n",
    "\n",
    "    fig, ax = plt.subplots(nrows=n, ncols=n, figsize=(15,10))\n",
    "    fig.patch.set_visible(False)\n",
    "\n",
    "    for i, row in enumerate(ax):\n",
    "        for j, col in enumerate(row):\n",
    "            col.axis('off')\n",
    "            col.plot(idxs, decoded_x[i * n + j].tolist())\n",
    "    plt.savefig('grid_generated_vae_svm.png', facecolor='w')\n",
    "    print(\"*****   Manifold generation complete   *****\")\n",
    "\n",
    "\n",
    "def plot_confusion_matrix(matrix):\n",
    "    df_cm = pd.DataFrame(matrix, [\"regular\", \"repeat\", \"chimeric\"], [\"regular\", \"repeat\", \"chimeric\"])\n",
    "    plt.figure(figsize=(10, 7))\n",
    "    sb.heatmap(df_cm, annot=True)\n",
    "    plt.show()"
   ]
  },
  {
   "cell_type": "code",
   "execution_count": 16,
   "metadata": {},
   "outputs": [],
   "source": [
    "# build encoder\n",
    "inputs = Input(shape=input_shape, name='encoder_input')\n",
    "x = Dense(intermediate_dim_0, activation='relu')(inputs)\n",
    "x = Dense(intermediate_dim_1, activation='relu')(x)\n",
    "x = Dense(intermediate_dim_2, activation='relu')(x)\n",
    "\n",
    "z_mean = Dense(latent_dim, name='z_mean')(x)\n",
    "z_log_var = Dense(latent_dim, name='z_log_var')(x)"
   ]
  },
  {
   "cell_type": "code",
   "execution_count": 17,
   "metadata": {},
   "outputs": [],
   "source": [
    "# Use reparameterization trick to push the sampling out as input\n",
    "z = Lambda(sampling, name='z')([z_mean, z_log_var])"
   ]
  },
  {
   "cell_type": "code",
   "execution_count": 18,
   "metadata": {},
   "outputs": [
    {
     "name": "stdout",
     "output_type": "stream",
     "text": [
      "__________________________________________________________________________________________________\n",
      "Layer (type)                    Output Shape         Param #     Connected to                     \n",
      "==================================================================================================\n",
      "encoder_input (InputLayer)      (None, 5000)         0                                            \n",
      "__________________________________________________________________________________________________\n",
      "dense_7 (Dense)                 (None, 1536)         7681536     encoder_input[0][0]              \n",
      "__________________________________________________________________________________________________\n",
      "dense_8 (Dense)                 (None, 1024)         1573888     dense_7[0][0]                    \n",
      "__________________________________________________________________________________________________\n",
      "dense_9 (Dense)                 (None, 512)          524800      dense_8[0][0]                    \n",
      "__________________________________________________________________________________________________\n",
      "z_mean (Dense)                  (None, 2)            1026        dense_9[0][0]                    \n",
      "__________________________________________________________________________________________________\n",
      "z_log_var (Dense)               (None, 2)            1026        dense_9[0][0]                    \n",
      "__________________________________________________________________________________________________\n",
      "z (Lambda)                      (None, 2)            0           z_mean[0][0]                     \n",
      "                                                                 z_log_var[0][0]                  \n",
      "==================================================================================================\n",
      "Total params: 9,782,276\n",
      "Trainable params: 9,782,276\n",
      "Non-trainable params: 0\n",
      "__________________________________________________________________________________________________\n"
     ]
    }
   ],
   "source": [
    "# instantiate encoder\n",
    "encoder = Model(inputs, [z_mean, z_log_var, z], name='encoder')\n",
    "encoder.summary()\n",
    "\n",
    "plot_model(encoder, to_file='vae_mlp_svm_encoder.png', show_shapes=True)"
   ]
  },
  {
   "cell_type": "code",
   "execution_count": 19,
   "metadata": {},
   "outputs": [],
   "source": [
    "# build decoder\n",
    "latent_inputs = Input(shape=(latent_dim,), name='z_sampling')\n",
    "x = Dense(intermediate_dim_2, activation='relu')(latent_inputs)\n",
    "x = Dense(intermediate_dim_1, activation='relu')(x)\n",
    "x = Dense(intermediate_dim_0, activation='relu')(x)\n",
    "\n",
    "outputs = Dense(original_dim, activation='sigmoid')(x)"
   ]
  },
  {
   "cell_type": "code",
   "execution_count": 20,
   "metadata": {},
   "outputs": [
    {
     "name": "stdout",
     "output_type": "stream",
     "text": [
      "_________________________________________________________________\n",
      "Layer (type)                 Output Shape              Param #   \n",
      "=================================================================\n",
      "z_sampling (InputLayer)      (None, 2)                 0         \n",
      "_________________________________________________________________\n",
      "dense_10 (Dense)             (None, 512)               1536      \n",
      "_________________________________________________________________\n",
      "dense_11 (Dense)             (None, 1024)              525312    \n",
      "_________________________________________________________________\n",
      "dense_12 (Dense)             (None, 1536)              1574400   \n",
      "_________________________________________________________________\n",
      "dense_13 (Dense)             (None, 5000)              7685000   \n",
      "=================================================================\n",
      "Total params: 9,786,248\n",
      "Trainable params: 9,786,248\n",
      "Non-trainable params: 0\n",
      "_________________________________________________________________\n"
     ]
    }
   ],
   "source": [
    "# instantiate decoder\n",
    "decoder = Model(latent_inputs, outputs, name='decoder')\n",
    "decoder.summary()\n",
    "\n",
    "plot_model(decoder, to_file='vae_mlp_svm_decoder.png', show_shapes=True)"
   ]
  },
  {
   "cell_type": "code",
   "execution_count": 21,
   "metadata": {},
   "outputs": [],
   "source": [
    "# instantiate VAE model\n",
    "outputs = decoder(encoder(inputs)[2])\n",
    "vae = Model(inputs, outputs, name='vae_mlp_svm')"
   ]
  },
  {
   "cell_type": "code",
   "execution_count": 22,
   "metadata": {},
   "outputs": [],
   "source": [
    "reconstruction_loss = mse(inputs, outputs)\n",
    "reconstruction_loss *= original_dim\n",
    "kl_loss = 1 + z_log_var - K.square(z_mean) - K.exp(z_log_var)\n",
    "kl_loss = K.sum(kl_loss, axis=-1)\n",
    "kl_loss *= -0.5\n",
    "\n",
    "vae_loss = K.mean(reconstruction_loss + kl_loss)"
   ]
  },
  {
   "cell_type": "code",
   "execution_count": 23,
   "metadata": {},
   "outputs": [
    {
     "name": "stdout",
     "output_type": "stream",
     "text": [
      "WARNING:tensorflow:Output \"decoder\" missing from loss dictionary. We assume this was done on purpose. The fit and evaluate APIs will not be expecting any data to be passed to \"decoder\".\n",
      "_________________________________________________________________\n",
      "Layer (type)                 Output Shape              Param #   \n",
      "=================================================================\n",
      "encoder_input (InputLayer)   (None, 5000)              0         \n",
      "_________________________________________________________________\n",
      "encoder (Model)              [(None, 2), (None, 2), (N 9782276   \n",
      "_________________________________________________________________\n",
      "decoder (Model)              (None, 5000)              9786248   \n",
      "=================================================================\n",
      "Total params: 19,568,524\n",
      "Trainable params: 19,568,524\n",
      "Non-trainable params: 0\n",
      "_________________________________________________________________\n"
     ]
    }
   ],
   "source": [
    "vae.add_loss(vae_loss)\n",
    "vae.compile(optimizer='adam')\n",
    "vae.summary()\n",
    "\n",
    "plot_model(vae, to_file='vae_mlp_svm.png', show_shapes=True)"
   ]
  },
  {
   "cell_type": "code",
   "execution_count": 24,
   "metadata": {},
   "outputs": [
    {
     "name": "stdout",
     "output_type": "stream",
     "text": [
      "XS shape: (330, 5000)\n",
      "One-hot encoded YS shape: (330, 3)\n",
      "Train on 280 samples, validate on 50 samples\n",
      "Epoch 1/70\n",
      "280/280 [==============================] - 4s 14ms/step - loss: 402.3725 - val_loss: 1042.8414\n",
      "Epoch 2/70\n",
      "280/280 [==============================] - 2s 8ms/step - loss: 372.6047 - val_loss: 240.1539\n",
      "Epoch 3/70\n",
      "280/280 [==============================] - 2s 8ms/step - loss: 205.7149 - val_loss: 216.3855\n",
      "Epoch 4/70\n",
      "280/280 [==============================] - 1s 5ms/step - loss: 196.0142 - val_loss: 252.1436\n",
      "Epoch 5/70\n",
      "280/280 [==============================] - 2s 8ms/step - loss: 208.7953 - val_loss: 203.4253\n",
      "Epoch 6/70\n",
      "280/280 [==============================] - 1s 5ms/step - loss: 178.6561 - val_loss: 211.2074\n",
      "Epoch 7/70\n",
      "280/280 [==============================] - 2s 8ms/step - loss: 188.6103 - val_loss: 160.3960\n",
      "Epoch 8/70\n",
      "280/280 [==============================] - 2s 8ms/step - loss: 137.7374 - val_loss: 141.7849\n",
      "Epoch 9/70\n",
      "280/280 [==============================] - 3s 9ms/step - loss: 125.3968 - val_loss: 115.4596\n",
      "Epoch 10/70\n",
      "280/280 [==============================] - 1s 5ms/step - loss: 114.7803 - val_loss: 124.5544\n",
      "Epoch 11/70\n",
      "280/280 [==============================] - 2s 8ms/step - loss: 103.8425 - val_loss: 109.2712\n",
      "Epoch 12/70\n",
      "280/280 [==============================] - 2s 8ms/step - loss: 105.5822 - val_loss: 103.7941\n",
      "Epoch 13/70\n",
      "280/280 [==============================] - 2s 9ms/step - loss: 92.6467 - val_loss: 62.7896\n",
      "Epoch 14/70\n",
      "280/280 [==============================] - 1s 5ms/step - loss: 71.8573 - val_loss: 77.3433\n",
      "Epoch 15/70\n",
      "280/280 [==============================] - 2s 9ms/step - loss: 65.8271 - val_loss: 48.3064\n",
      "Epoch 16/70\n",
      "280/280 [==============================] - 1s 5ms/step - loss: 60.9221 - val_loss: 59.0677\n",
      "Epoch 17/70\n",
      "280/280 [==============================] - 1s 5ms/step - loss: 67.6294 - val_loss: 52.2296\n",
      "Epoch 18/70\n",
      "280/280 [==============================] - 1s 5ms/step - loss: 61.5542 - val_loss: 63.3352\n",
      "Epoch 19/70\n",
      "280/280 [==============================] - 3s 10ms/step - loss: 58.3866 - val_loss: 41.2746\n",
      "Epoch 20/70\n",
      "280/280 [==============================] - 3s 9ms/step - loss: 47.4944 - val_loss: 39.3582\n",
      "Epoch 21/70\n",
      "280/280 [==============================] - 2s 5ms/step - loss: 42.0407 - val_loss: 39.8814\n",
      "Epoch 22/70\n",
      "280/280 [==============================] - 3s 9ms/step - loss: 41.6694 - val_loss: 37.6220\n",
      "Epoch 23/70\n",
      "280/280 [==============================] - 2s 8ms/step - loss: 38.4968 - val_loss: 36.6890\n",
      "Epoch 24/70\n",
      "280/280 [==============================] - 2s 7ms/step - loss: 36.7914 - val_loss: 31.5747\n",
      "Epoch 25/70\n",
      "280/280 [==============================] - 1s 5ms/step - loss: 35.2029 - val_loss: 31.7871\n",
      "Epoch 26/70\n",
      "280/280 [==============================] - 1s 5ms/step - loss: 34.4653 - val_loss: 32.7801\n",
      "Epoch 27/70\n",
      "280/280 [==============================] - 1s 5ms/step - loss: 32.8443 - val_loss: 31.5920\n",
      "Epoch 28/70\n",
      "280/280 [==============================] - 1s 5ms/step - loss: 32.8624 - val_loss: 32.7125\n",
      "Epoch 29/70\n",
      "280/280 [==============================] - 2s 7ms/step - loss: 33.1330 - val_loss: 30.3502\n",
      "Epoch 30/70\n",
      "280/280 [==============================] - 1s 5ms/step - loss: 32.4324 - val_loss: 30.6646\n",
      "Epoch 31/70\n",
      "280/280 [==============================] - 2s 8ms/step - loss: 31.1290 - val_loss: 29.3635\n",
      "Epoch 32/70\n",
      "280/280 [==============================] - 2s 7ms/step - loss: 30.6425 - val_loss: 27.9925\n",
      "Epoch 33/70\n",
      "280/280 [==============================] - 1s 5ms/step - loss: 31.2416 - val_loss: 28.2887\n",
      "Epoch 34/70\n",
      "280/280 [==============================] - 1s 5ms/step - loss: 30.6487 - val_loss: 31.5453\n",
      "Epoch 35/70\n",
      "280/280 [==============================] - 1s 5ms/step - loss: 31.4666 - val_loss: 29.9813\n",
      "Epoch 36/70\n",
      "280/280 [==============================] - 1s 5ms/step - loss: 30.3019 - val_loss: 29.3103\n",
      "Epoch 37/70\n",
      "280/280 [==============================] - 1s 5ms/step - loss: 30.0958 - val_loss: 28.2479\n",
      "Epoch 00037: early stopping\n"
     ]
    },
    {
     "data": {
      "image/png": "[encoded data removed]",
      "text/plain": [
       "<Figure size 432x288 with 1 Axes>"
      ]
     },
     "metadata": {},
     "output_type": "display_data"
    }
   ],
   "source": [
    "# patient early stopping\n",
    "es = EarlyStopping(monitor='val_loss', mode='min', verbose=1, patience=5)\n",
    "cp = ModelCheckpoint(filepath=\"vae_mlp_svm.h5\", save_best_only=True, verbose=0)\n",
    "\n",
    "train_x, train_y, test_x, test_y = create_datasets(\"/floyd/input/overlaps/categorized_400.tsv\")\n",
    "train_x = train_x / np.max(train_x)\n",
    "test_x = test_x / np.max(test_x)\n",
    "\n",
    "history = vae.fit(train_x, epochs=epochs, batch_size=batch_size, validation_data=(test_x, None), callbacks=[es, cp])\n",
    "plot_loss(history)"
   ]
  },
  {
   "cell_type": "code",
   "execution_count": 25,
   "metadata": {},
   "outputs": [
    {
     "name": "stdout",
     "output_type": "stream",
     "text": [
      "Training Z shape: (280, 2)\n"
     ]
    },
    {
     "data": {
      "text/plain": [
       "SVC(C=1.0, cache_size=200, class_weight=None, coef0=0.0,\n",
       "  decision_function_shape='ovr', degree=3, gamma='auto', kernel='rbf',\n",
       "  max_iter=-1, probability=False, random_state=None, shrinking=True,\n",
       "  tol=0.001, verbose=False)"
      ]
     },
     "execution_count": 25,
     "metadata": {},
     "output_type": "execute_result"
    }
   ],
   "source": [
    "# Train SVM classifier on training labels \\& training latent samples\n",
    "train_z, _, _ = encoder.predict(train_x, batch_size=batch_size)\n",
    "print(\"Training Z shape: {}\".format(train_z.shape))\n",
    "\n",
    "svm = SVC(kernel='rbf')\n",
    "svm.fit(train_z, train_y.argmax(axis=1))"
   ]
  },
  {
   "cell_type": "code",
   "execution_count": 26,
   "metadata": {},
   "outputs": [
    {
     "data": {
      "image/png": "[encoded data removed]",
      "text/plain": [
       "<Figure size 864x720 with 1 Axes>"
      ]
     },
     "metadata": {},
     "output_type": "display_data"
    },
    {
     "data": {
      "image/png": "[encoded data removed]",
      "text/plain": [
       "<Figure size 720x504 with 2 Axes>"
      ]
     },
     "metadata": {},
     "output_type": "display_data"
    },
    {
     "name": "stdout",
     "output_type": "stream",
     "text": [
      "             precision    recall  f1-score   support\n",
      "\n",
      "          0       0.33      0.06      0.11        16\n",
      "          1       0.66      0.94      0.78        33\n",
      "          2       0.00      0.00      0.00         1\n",
      "\n",
      "avg / total       0.54      0.64      0.55        50\n",
      "\n"
     ]
    },
    {
     "name": "stderr",
     "output_type": "stream",
     "text": [
      "/usr/local/lib/python3.6/site-packages/sklearn/metrics/classification.py:1135: UndefinedMetricWarning: Precision and F-score are ill-defined and being set to 0.0 in labels with no predicted samples.\n",
      "  'precision', 'predicted', average, warn_for)\n"
     ]
    }
   ],
   "source": [
    "# Test classifier\n",
    "test_z, _, _ = encoder.predict(test_x, batch_size=batch_size)\n",
    "\n",
    "plt.figure(figsize=(12, 10))\n",
    "plt.scatter(test_z[:, 0], test_z[:, 1], c=test_y)\n",
    "plt.xlabel(\"z[0]\")\n",
    "plt.ylabel(\"z[1]\")\n",
    "plt.show()\n",
    "\n",
    "\n",
    "pred_y = svm.predict(test_z)\n",
    "\n",
    "matrix = metrics.confusion_matrix(test_y.argmax(axis=1), pred_y)\n",
    "plot_confusion_matrix(matrix)\n",
    "\n",
    "print(metrics.classification_report(test_y.argmax(axis=1), pred_y))"
   ]
  },
  {
   "cell_type": "code",
   "execution_count": null,
   "metadata": {},
   "outputs": [],
   "source": []
  }
 ],
 "metadata": {
  "kernelspec": {
   "display_name": "Python 3",
   "language": "python",
   "name": "python3"
  },
  "language_info": {
   "codemirror_mode": {
    "name": "ipython",
    "version": 3
   },
   "file_extension": ".py",
   "mimetype": "text/x-python",
   "name": "python",
   "nbconvert_exporter": "python",
   "pygments_lexer": "ipython3",
   "version": "3.6.5"
  }
 },
 "nbformat": 4,
 "nbformat_minor": 2
}
