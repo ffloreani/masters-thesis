{
 "cells": [
  {
   "cell_type": "code",
   "execution_count": 2,
   "metadata": {},
   "outputs": [],
   "source": [
    "import tensorflow as tf\n",
    "import pandas as pd\n",
    "import numpy as np\n",
    "import seaborn as sb\n",
    "import matplotlib.pyplot as plt\n",
    "from sklearn.neighbors import KNeighborsClassifier\n",
    "import sklearn.metrics as metrics\n",
    "from sklearn.model_selection import train_test_split\n",
    "from tensorflow.keras.utils import to_categorical\n",
    "from tensorflow.keras import Sequential, Input, Model, regularizers\n",
    "from tensorflow.keras.layers import Lambda, Input, Dense\n",
    "from tensorflow.keras.models import Model\n",
    "from keras.datasets import mnist\n",
    "from keras.losses import mse, binary_crossentropy\n",
    "from keras.utils import plot_model\n",
    "from keras.callbacks import EarlyStopping, ModelCheckpoint\n",
    "from keras import backend as K\n",
    "\n",
    "from scipy.stats import norm"
   ]
  },
  {
   "cell_type": "code",
   "execution_count": 3,
   "metadata": {},
   "outputs": [],
   "source": [
    "# z = z_mean + sqrt(var) * epsilon\n",
    "def sampling(args):\n",
    "    z_mean, z_log_var = args\n",
    "    batch = K.shape(z_mean)[0]\n",
    "    dim = K.int_shape(z_mean)[1]\n",
    "    \n",
    "    epsilon = K.random_normal(shape=(batch, dim))\n",
    "    return z_mean + K.exp(0.5 * z_log_var) * epsilon"
   ]
  },
  {
   "cell_type": "code",
   "execution_count": 4,
   "metadata": {},
   "outputs": [],
   "source": [
    "# network parameters\n",
    "original_dim = 5000 * 1\n",
    "input_shape = (original_dim, )\n",
    "intermediate_dim_0 = 1536\n",
    "intermediate_dim_1 = 1024\n",
    "intermediate_dim_2 = 512\n",
    "batch_size = 128\n",
    "latent_dim = 2\n",
    "epochs = 70\n",
    "\n",
    "REGULAR = \"reg\"\n",
    "CHIMERIC = \"chi\"\n",
    "REPEAT = \"rep\"\n",
    "LOW_QUALITY = \"loq\"\n",
    "\n",
    "INPUT_LENGTH = 5000\n",
    "INPUT_THRESHOLD = 1000\n",
    "\n",
    "NUM_CLASSES = 3\n",
    "\n",
    "\n",
    "def create_datasets(tsv_input):\n",
    "    data = pd.read_csv(tsv_input, delimiter=\"\\t\")\n",
    "\n",
    "    # Filter out all low quality reads\n",
    "    data = data.loc[data.CAT != LOW_QUALITY]\n",
    "\n",
    "    # Convert sequence string to float array\n",
    "    data.PTS = data.PTS.apply(string_to_array)\n",
    "\n",
    "    # Convert labels from strings to ints\n",
    "    ys = data.CAT.apply(category_to_int).to_numpy()\n",
    "    xs = np.stack(data.PTS.array)\n",
    "\n",
    "    encoded_ys = to_categorical(ys, num_classes=NUM_CLASSES)\n",
    "\n",
    "    print(\"XS shape: {}\".format(xs.shape))\n",
    "    print(\"One-hot encoded YS shape: {}\".format(encoded_ys.shape))\n",
    "\n",
    "    train_x, test_x, train_y, test_y = train_test_split(xs, encoded_ys, test_size=0.15)\n",
    "\n",
    "    return train_x, train_y, test_x, test_y\n",
    "\n",
    "\n",
    "def string_to_array(data):\n",
    "    data_string = str(data)\n",
    "    split = data_string.split(',')\n",
    "\n",
    "    return np.array([float(i) for i in split])\n",
    "\n",
    "\n",
    "def category_to_int(data):\n",
    "    category = str(data)\n",
    "    if category == REGULAR:\n",
    "        return 0\n",
    "    elif category == REPEAT:\n",
    "        return 1\n",
    "    else:\n",
    "        return 2"
   ]
  },
  {
   "cell_type": "code",
   "execution_count": 5,
   "metadata": {},
   "outputs": [],
   "source": [
    "# build encoder\n",
    "inputs = Input(shape=input_shape, name='encoder_input')\n",
    "x = Dense(intermediate_dim_0, activation='relu')(inputs)\n",
    "x = Dense(intermediate_dim_1, activation='relu')(x)\n",
    "x = Dense(intermediate_dim_2, activation='relu')(x)\n",
    "\n",
    "z_mean = Dense(latent_dim, name='z_mean')(x)\n",
    "z_log_var = Dense(latent_dim, name='z_log_var')(x)"
   ]
  },
  {
   "cell_type": "code",
   "execution_count": 6,
   "metadata": {},
   "outputs": [],
   "source": [
    "# Use reparameterization trick to push the sampling out as input\n",
    "z = Lambda(sampling, name='z')([z_mean, z_log_var])"
   ]
  },
  {
   "cell_type": "code",
   "execution_count": 7,
   "metadata": {},
   "outputs": [
    {
     "name": "stdout",
     "output_type": "stream",
     "text": [
      "__________________________________________________________________________________________________\n",
      "Layer (type)                    Output Shape         Param #     Connected to                     \n",
      "==================================================================================================\n",
      "encoder_input (InputLayer)      (None, 5000)         0                                            \n",
      "__________________________________________________________________________________________________\n",
      "dense (Dense)                   (None, 1536)         7681536     encoder_input[0][0]              \n",
      "__________________________________________________________________________________________________\n",
      "dense_1 (Dense)                 (None, 1024)         1573888     dense[0][0]                      \n",
      "__________________________________________________________________________________________________\n",
      "dense_2 (Dense)                 (None, 512)          524800      dense_1[0][0]                    \n",
      "__________________________________________________________________________________________________\n",
      "z_mean (Dense)                  (None, 2)            1026        dense_2[0][0]                    \n",
      "__________________________________________________________________________________________________\n",
      "z_log_var (Dense)               (None, 2)            1026        dense_2[0][0]                    \n",
      "__________________________________________________________________________________________________\n",
      "z (Lambda)                      (None, 2)            0           z_mean[0][0]                     \n",
      "                                                                 z_log_var[0][0]                  \n",
      "==================================================================================================\n",
      "Total params: 9,782,276\n",
      "Trainable params: 9,782,276\n",
      "Non-trainable params: 0\n",
      "__________________________________________________________________________________________________\n"
     ]
    }
   ],
   "source": [
    "# instantiate encoder\n",
    "encoder = Model(inputs, [z_mean, z_log_var, z], name='encoder')\n",
    "encoder.summary()\n",
    "\n",
    "plot_model(encoder, to_file='vae_mlp_encoder.png', show_shapes=True)"
   ]
  },
  {
   "cell_type": "code",
   "execution_count": 8,
   "metadata": {},
   "outputs": [],
   "source": [
    "# build decoder\n",
    "latent_inputs = Input(shape=(latent_dim,), name='z_sampling')\n",
    "x = Dense(intermediate_dim_2, activation='relu')(latent_inputs)\n",
    "x = Dense(intermediate_dim_1, activation='relu')(x)\n",
    "x = Dense(intermediate_dim_0, activation='relu')(x)\n",
    "\n",
    "outputs = Dense(original_dim, activation='sigmoid')(x)"
   ]
  },
  {
   "cell_type": "code",
   "execution_count": 9,
   "metadata": {},
   "outputs": [
    {
     "name": "stdout",
     "output_type": "stream",
     "text": [
      "_________________________________________________________________\n",
      "Layer (type)                 Output Shape              Param #   \n",
      "=================================================================\n",
      "z_sampling (InputLayer)      (None, 2)                 0         \n",
      "_________________________________________________________________\n",
      "dense_3 (Dense)              (None, 512)               1536      \n",
      "_________________________________________________________________\n",
      "dense_4 (Dense)              (None, 1024)              525312    \n",
      "_________________________________________________________________\n",
      "dense_5 (Dense)              (None, 1536)              1574400   \n",
      "_________________________________________________________________\n",
      "dense_6 (Dense)              (None, 5000)              7685000   \n",
      "=================================================================\n",
      "Total params: 9,786,248\n",
      "Trainable params: 9,786,248\n",
      "Non-trainable params: 0\n",
      "_________________________________________________________________\n"
     ]
    }
   ],
   "source": [
    "# instantiate decoder\n",
    "decoder = Model(latent_inputs, outputs, name='decoder')\n",
    "decoder.summary()\n",
    "\n",
    "plot_model(decoder, to_file='vae_mlp_decoder.png', show_shapes=True)"
   ]
  },
  {
   "cell_type": "code",
   "execution_count": 10,
   "metadata": {},
   "outputs": [],
   "source": [
    "# instantiate VAE model\n",
    "outputs = decoder(encoder(inputs)[2])\n",
    "vae = Model(inputs, outputs, name='vae_mlp')"
   ]
  },
  {
   "cell_type": "code",
   "execution_count": 11,
   "metadata": {},
   "outputs": [],
   "source": [
    "reconstruction_loss = mse(inputs, outputs)\n",
    "reconstruction_loss *= original_dim\n",
    "kl_loss = 1 + z_log_var - K.square(z_mean) - K.exp(z_log_var)\n",
    "kl_loss = K.sum(kl_loss, axis=-1)\n",
    "kl_loss *= -0.5\n",
    "\n",
    "vae_loss = K.mean(reconstruction_loss + kl_loss)"
   ]
  },
  {
   "cell_type": "code",
   "execution_count": 12,
   "metadata": {},
   "outputs": [
    {
     "name": "stdout",
     "output_type": "stream",
     "text": [
      "WARNING:tensorflow:Output \"decoder\" missing from loss dictionary. We assume this was done on purpose. The fit and evaluate APIs will not be expecting any data to be passed to \"decoder\".\n",
      "_________________________________________________________________\n",
      "Layer (type)                 Output Shape              Param #   \n",
      "=================================================================\n",
      "encoder_input (InputLayer)   (None, 5000)              0         \n",
      "_________________________________________________________________\n",
      "encoder (Model)              [(None, 2), (None, 2), (N 9782276   \n",
      "_________________________________________________________________\n",
      "decoder (Model)              (None, 5000)              9786248   \n",
      "=================================================================\n",
      "Total params: 19,568,524\n",
      "Trainable params: 19,568,524\n",
      "Non-trainable params: 0\n",
      "_________________________________________________________________\n"
     ]
    }
   ],
   "source": [
    "vae.add_loss(vae_loss)\n",
    "vae.compile(optimizer='adam')\n",
    "vae.summary()\n",
    "\n",
    "plot_model(vae, to_file='vae_mlp.png', show_shapes=True)"
   ]
  },
  {
   "cell_type": "code",
   "execution_count": 13,
   "metadata": {},
   "outputs": [],
   "source": [
    "def plot_loss(model):\n",
    "    loss = model.history['loss']\n",
    "    val_loss = model.history['val_loss']\n",
    "    plt.figure()\n",
    "    plt.plot(loss, 'r-', label='Training loss')\n",
    "    plt.plot(val_loss, 'b-', label='Validation loss')\n",
    "    plt.title('Training and validation loss')\n",
    "    plt.legend()\n",
    "    plt.show()\n",
    "\n",
    "    \n",
    "def plot_decoded(decoded_x, n):\n",
    "    idxs = range(INPUT_LENGTH)\n",
    "\n",
    "    fig, ax = plt.subplots(nrows=n, ncols=n, figsize=(15,10))\n",
    "    fig.patch.set_visible(False)\n",
    "\n",
    "    for i, row in enumerate(ax):\n",
    "        for j, col in enumerate(row):\n",
    "            col.axis('off')\n",
    "            col.plot(idxs, decoded_x[i * n + j].tolist())\n",
    "    plt.savefig('grid_generated.png', facecolor='w')\n",
    "    print(\"*****   Manifold generation complete   *****\")\n",
    "\n",
    "\n",
    "def plot_confusion_matrix(matrix):\n",
    "    df_cm = pd.DataFrame(matrix, [\"regular\", \"repeat\", \"chimeric\"], [\"regular\", \"repeat\", \"chimeric\"])\n",
    "    plt.figure(figsize=(10, 7))\n",
    "    sb.heatmap(df_cm, annot=True)\n",
    "    plt.show()"
   ]
  },
  {
   "cell_type": "code",
   "execution_count": 14,
   "metadata": {},
   "outputs": [
    {
     "name": "stdout",
     "output_type": "stream",
     "text": [
      "XS shape: (330, 5000)\n",
      "One-hot encoded YS shape: (330, 3)\n",
      "Train on 280 samples, validate on 50 samples\n",
      "Epoch 1/70\n",
      "280/280 [==============================] - 4s 14ms/step - loss: 443.7492 - val_loss: 424.1603\n",
      "Epoch 2/70\n",
      "280/280 [==============================] - 2s 7ms/step - loss: 294.5469 - val_loss: 166.0306\n",
      "Epoch 3/70\n",
      "280/280 [==============================] - 1s 5ms/step - loss: 184.0627 - val_loss: 418.0827\n",
      "Epoch 4/70\n",
      "280/280 [==============================] - 2s 7ms/step - loss: 223.1398 - val_loss: 141.9151\n",
      "Epoch 5/70\n",
      "280/280 [==============================] - 1s 4ms/step - loss: 169.5286 - val_loss: 147.7662\n",
      "Epoch 6/70\n",
      "280/280 [==============================] - 1s 5ms/step - loss: 136.5162 - val_loss: 187.8194\n",
      "Epoch 7/70\n",
      "280/280 [==============================] - 2s 7ms/step - loss: 131.3405 - val_loss: 139.6003\n",
      "Epoch 8/70\n",
      "280/280 [==============================] - 1s 5ms/step - loss: 121.4943 - val_loss: 142.8552\n",
      "Epoch 9/70\n",
      "280/280 [==============================] - 1s 5ms/step - loss: 116.2703 - val_loss: 189.1713\n",
      "Epoch 10/70\n",
      "280/280 [==============================] - 1s 5ms/step - loss: 123.6410 - val_loss: 160.3609\n",
      "Epoch 11/70\n",
      "280/280 [==============================] - 2s 8ms/step - loss: 112.4155 - val_loss: 131.4563\n",
      "Epoch 12/70\n",
      "280/280 [==============================] - 1s 4ms/step - loss: 106.3139 - val_loss: 134.2688\n",
      "Epoch 13/70\n",
      "280/280 [==============================] - 1s 5ms/step - loss: 98.5831 - val_loss: 140.8498\n",
      "Epoch 14/70\n",
      "280/280 [==============================] - 2s 8ms/step - loss: 106.0837 - val_loss: 126.7419\n",
      "Epoch 15/70\n",
      "280/280 [==============================] - 2s 8ms/step - loss: 96.9697 - val_loss: 121.8089\n",
      "Epoch 16/70\n",
      "280/280 [==============================] - 1s 5ms/step - loss: 92.1450 - val_loss: 124.2875\n",
      "Epoch 17/70\n",
      "280/280 [==============================] - 1s 5ms/step - loss: 94.6136 - val_loss: 130.4575\n",
      "Epoch 18/70\n",
      "280/280 [==============================] - 3s 10ms/step - loss: 91.2042 - val_loss: 113.7613\n",
      "Epoch 19/70\n",
      "280/280 [==============================] - 2s 8ms/step - loss: 89.0357 - val_loss: 112.2769\n",
      "Epoch 20/70\n",
      "280/280 [==============================] - 1s 5ms/step - loss: 86.1199 - val_loss: 121.4537\n",
      "Epoch 21/70\n",
      "280/280 [==============================] - 2s 7ms/step - loss: 88.8580 - val_loss: 110.3544\n",
      "Epoch 22/70\n",
      "280/280 [==============================] - 2s 7ms/step - loss: 94.0088 - val_loss: 110.2342\n",
      "Epoch 23/70\n",
      "280/280 [==============================] - 1s 5ms/step - loss: 91.4367 - val_loss: 129.6234\n",
      "Epoch 24/70\n",
      "280/280 [==============================] - 1s 5ms/step - loss: 100.8599 - val_loss: 114.9586\n",
      "Epoch 25/70\n",
      "280/280 [==============================] - 1s 4ms/step - loss: 89.5246 - val_loss: 119.4561\n",
      "Epoch 26/70\n",
      "280/280 [==============================] - 2s 8ms/step - loss: 77.2113 - val_loss: 89.2742\n",
      "Epoch 27/70\n",
      "280/280 [==============================] - 2s 8ms/step - loss: 77.9794 - val_loss: 81.6969\n",
      "Epoch 28/70\n",
      "280/280 [==============================] - 1s 5ms/step - loss: 68.7042 - val_loss: 111.8715\n",
      "Epoch 29/70\n",
      "280/280 [==============================] - 2s 8ms/step - loss: 71.2473 - val_loss: 68.9600\n",
      "Epoch 30/70\n",
      "280/280 [==============================] - 2s 8ms/step - loss: 55.1010 - val_loss: 65.8527\n",
      "Epoch 31/70\n",
      "280/280 [==============================] - 1s 5ms/step - loss: 48.5783 - val_loss: 75.0721\n",
      "Epoch 32/70\n",
      "280/280 [==============================] - 2s 9ms/step - loss: 49.4852 - val_loss: 61.8940\n",
      "Epoch 33/70\n",
      "280/280 [==============================] - 2s 8ms/step - loss: 46.8944 - val_loss: 52.8129\n",
      "Epoch 34/70\n",
      "280/280 [==============================] - 2s 6ms/step - loss: 40.9517 - val_loss: 49.2731\n",
      "Epoch 35/70\n",
      "280/280 [==============================] - 2s 9ms/step - loss: 37.3856 - val_loss: 47.9997\n",
      "Epoch 36/70\n",
      "280/280 [==============================] - 2s 8ms/step - loss: 37.4589 - val_loss: 41.7306\n",
      "Epoch 37/70\n",
      "280/280 [==============================] - 2s 8ms/step - loss: 32.6777 - val_loss: 38.2748\n",
      "Epoch 38/70\n",
      "280/280 [==============================] - 2s 8ms/step - loss: 31.7125 - val_loss: 37.9100\n",
      "Epoch 39/70\n",
      "280/280 [==============================] - 1s 5ms/step - loss: 32.0855 - val_loss: 38.0801\n",
      "Epoch 40/70\n",
      "280/280 [==============================] - 2s 8ms/step - loss: 31.3741 - val_loss: 37.4517\n",
      "Epoch 41/70\n",
      "280/280 [==============================] - 3s 9ms/step - loss: 31.0317 - val_loss: 34.4660\n",
      "Epoch 42/70\n",
      "280/280 [==============================] - 2s 8ms/step - loss: 30.4496 - val_loss: 33.7326\n",
      "Epoch 43/70\n",
      "280/280 [==============================] - 1s 5ms/step - loss: 29.3885 - val_loss: 34.2092\n",
      "Epoch 44/70\n",
      "280/280 [==============================] - 1s 5ms/step - loss: 30.5864 - val_loss: 33.9441\n",
      "Epoch 45/70\n",
      "280/280 [==============================] - 3s 9ms/step - loss: 30.3947 - val_loss: 32.8954\n",
      "Epoch 46/70\n",
      "280/280 [==============================] - 2s 8ms/step - loss: 29.3850 - val_loss: 32.6308\n",
      "Epoch 47/70\n",
      "280/280 [==============================] - 1s 5ms/step - loss: 29.4824 - val_loss: 35.8933\n",
      "Epoch 48/70\n",
      "280/280 [==============================] - 1s 4ms/step - loss: 32.1089 - val_loss: 37.6321\n",
      "Epoch 49/70\n",
      "280/280 [==============================] - 1s 5ms/step - loss: 33.6574 - val_loss: 34.0826\n",
      "Epoch 50/70\n",
      "280/280 [==============================] - 1s 5ms/step - loss: 31.0470 - val_loss: 33.8189\n",
      "Epoch 51/70\n",
      "280/280 [==============================] - 2s 8ms/step - loss: 30.1762 - val_loss: 31.4404\n",
      "Epoch 52/70\n",
      "280/280 [==============================] - 1s 4ms/step - loss: 29.1861 - val_loss: 32.5175\n",
      "Epoch 53/70\n",
      "280/280 [==============================] - 1s 5ms/step - loss: 30.1758 - val_loss: 33.1041\n",
      "Epoch 54/70\n",
      "280/280 [==============================] - 2s 8ms/step - loss: 28.7844 - val_loss: 31.1118\n",
      "Epoch 55/70\n",
      "280/280 [==============================] - 2s 7ms/step - loss: 28.6230 - val_loss: 30.8015\n",
      "Epoch 56/70\n",
      "280/280 [==============================] - 1s 5ms/step - loss: 27.9261 - val_loss: 32.2228\n",
      "Epoch 57/70\n",
      "280/280 [==============================] - 1s 5ms/step - loss: 28.7490 - val_loss: 35.0405\n",
      "Epoch 58/70\n",
      "280/280 [==============================] - 1s 5ms/step - loss: 33.0131 - val_loss: 33.9212\n",
      "Epoch 59/70\n",
      "280/280 [==============================] - 1s 4ms/step - loss: 31.2455 - val_loss: 33.6626\n",
      "Epoch 60/70\n",
      "280/280 [==============================] - 1s 5ms/step - loss: 29.4886 - val_loss: 32.1373\n",
      "Epoch 00060: early stopping\n"
     ]
    },
    {
     "data": {
      "image/png": "[encoded data removed]",
      "text/plain": [
       "<Figure size 432x288 with 1 Axes>"
      ]
     },
     "metadata": {},
     "output_type": "display_data"
    }
   ],
   "source": [
    "# patient early stopping\n",
    "es = EarlyStopping(monitor='val_loss', mode='min', verbose=1, patience=5)\n",
    "cp = ModelCheckpoint(filepath=\"vae_mlp.h5\", save_best_only=True, verbose=0)\n",
    "\n",
    "train_x, train_y, test_x, test_y = create_datasets(\"/floyd/input/labeled_400/categorized_400.tsv\")\n",
    "train_x = train_x / np.max(train_x)\n",
    "test_x = test_x / np.max(test_x)\n",
    "\n",
    "history = vae.fit(train_x, epochs=epochs, batch_size=batch_size, validation_data=(test_x, None), callbacks=[es, cp])\n",
    "plot_loss(history)"
   ]
  },
  {
   "cell_type": "code",
   "execution_count": 25,
   "metadata": {},
   "outputs": [
    {
     "name": "stdout",
     "output_type": "stream",
     "text": [
      "Training Z shape: (280, 2)\n"
     ]
    },
    {
     "data": {
      "text/plain": [
       "KNeighborsClassifier(algorithm='auto', leaf_size=30, metric='minkowski',\n",
       "           metric_params=None, n_jobs=1, n_neighbors=7, p=2,\n",
       "           weights='uniform')"
      ]
     },
     "execution_count": 25,
     "metadata": {},
     "output_type": "execute_result"
    }
   ],
   "source": [
    "# Train SVM classifier on training labels \\& training latent samples\n",
    "train_z, _, _ = encoder.predict(train_x, batch_size=batch_size)\n",
    "print(\"Training Z shape: {}\".format(train_z.shape))\n",
    "\n",
    "knn = KNeighborsClassifier(n_neighbors=7)\n",
    "knn.fit(train_z, train_y.argmax(axis=1))"
   ]
  },
  {
   "cell_type": "code",
   "execution_count": 26,
   "metadata": {},
   "outputs": [
    {
     "name": "stdout",
     "output_type": "stream",
     "text": [
      "(900, 5000)\n"
     ]
    }
   ],
   "source": [
    "n = 30  # how many overlaps we will display\n",
    "u_grid = np.dstack(np.meshgrid(np.linspace(0.01, 0.99, n), np.linspace(0.01, 0.99, n)))\n",
    "z_grid = norm.ppf(u_grid)\n",
    " \n",
    "recons_x = decoder.predict(z_grid.reshape(n * n, 2))\n",
    "print(recons_x.shape)\n",
    "\n",
    "#plot_decoded(recons_x, n)"
   ]
  },
  {
   "cell_type": "code",
   "execution_count": 27,
   "metadata": {},
   "outputs": [
    {
     "data": {
      "image/png": "[encoded data removed]",
      "text/plain": [
       "<Figure size 864x720 with 1 Axes>"
      ]
     },
     "metadata": {},
     "output_type": "display_data"
    },
    {
     "name": "stdout",
     "output_type": "stream",
     "text": [
      "[1 1 0 1 0 1 1 1 1 0 1 1 0 0 1 1 1 1 1 1 0 0 1 1 1 0 1 0 1 1 0 1 1 0 1 1 1\n",
      " 1 0 0 0 0 1 1 1 0 1 1 1 0]\n"
     ]
    },
    {
     "data": {
      "image/png": "[encoded data removed]",
      "text/plain": [
       "<Figure size 720x504 with 2 Axes>"
      ]
     },
     "metadata": {},
     "output_type": "display_data"
    },
    {
     "name": "stdout",
     "output_type": "stream",
     "text": [
      "             precision    recall  f1-score   support\n",
      "\n",
      "          0       0.35      0.50      0.41        12\n",
      "          1       0.79      0.70      0.74        37\n",
      "          2       0.00      0.00      0.00         1\n",
      "\n",
      "avg / total       0.67      0.64      0.65        50\n",
      "\n"
     ]
    },
    {
     "name": "stderr",
     "output_type": "stream",
     "text": [
      "/usr/local/lib/python3.6/site-packages/sklearn/metrics/classification.py:1135: UndefinedMetricWarning: Precision and F-score are ill-defined and being set to 0.0 in labels with no predicted samples.\n",
      "  'precision', 'predicted', average, warn_for)\n"
     ]
    }
   ],
   "source": [
    "# Test classifier\n",
    "test_z, _, _ = encoder.predict(test_x, batch_size=batch_size)\n",
    "\n",
    "plt.figure(figsize=(12, 10))\n",
    "plt.scatter(test_z[:, 0], test_z[:, 1], c=test_y)\n",
    "plt.xlabel(\"z[0]\")\n",
    "plt.ylabel(\"z[1]\")\n",
    "plt.show()\n",
    "\n",
    "pred_y = knn.predict(test_z)\n",
    "print(pred_y)\n",
    "\n",
    "matrix = metrics.confusion_matrix(test_y.argmax(axis=1), pred_y)\n",
    "plot_confusion_matrix(matrix)\n",
    "\n",
    "print(metrics.classification_report(test_y.argmax(axis=1), pred_y))"
   ]
  },
  {
   "cell_type": "code",
   "execution_count": null,
   "metadata": {},
   "outputs": [],
   "source": []
  }
 ],
 "metadata": {
  "kernelspec": {
   "display_name": "Python 3",
   "language": "python",
   "name": "python3"
  },
  "language_info": {
   "codemirror_mode": {
    "name": "ipython",
    "version": 3
   },
   "file_extension": ".py",
   "mimetype": "text/x-python",
   "name": "python",
   "nbconvert_exporter": "python",
   "pygments_lexer": "ipython3",
   "version": "3.6.5"
  }
 },
 "nbformat": 4,
 "nbformat_minor": 2
}
